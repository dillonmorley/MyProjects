{
 "cells": [
  {
   "cell_type": "markdown",
   "metadata": {},
   "source": [
    "# Assignment 3 Text Analysis\n",
    "INST447 Spring 2021 - Farmer<br>\n",
    "#### Name: Dillon Morley UID: 114735850\n",
    "\n",
    "\n",
    "\n",
    "Resources\n",
    "- https://docs.python.org/3/library/re.html\n",
    "- https://www.dataquest.io/blog/regex-cheatsheet/\n",
    "- http://www.pyregex.com/"
   ]
  },
  {
   "cell_type": "code",
   "execution_count": 424,
   "metadata": {},
   "outputs": [],
   "source": [
    "# import modules\n",
    "import re, os\n",
    "import pandas as pd\n",
    "import numpy as np\n",
    "import datetime\n",
    "import time\n",
    "import matplotlib.pyplot as plt\n",
    "import matplotlib.dates as mdates\n",
    "%matplotlib inline"
   ]
  },
  {
   "cell_type": "markdown",
   "metadata": {},
   "source": [
    "# Part A: Applied Regular Expressions"
   ]
  },
  {
   "cell_type": "markdown",
   "metadata": {},
   "source": [
    "## Email Server Logs\n",
    "This is a typical server log for an email server. Administrators often use regex to make sense of it.\n",
    "\n",
    "Create a DataFrame with the date, time, ip address, email address, and the reason it was blocked"
   ]
  },
  {
   "cell_type": "code",
   "execution_count": 425,
   "metadata": {},
   "outputs": [
    {
     "data": {
      "text/html": [
       "<div>\n",
       "<style scoped>\n",
       "    .dataframe tbody tr th:only-of-type {\n",
       "        vertical-align: middle;\n",
       "    }\n",
       "\n",
       "    .dataframe tbody tr th {\n",
       "        vertical-align: top;\n",
       "    }\n",
       "\n",
       "    .dataframe thead th {\n",
       "        text-align: right;\n",
       "    }\n",
       "</style>\n",
       "<table border=\"1\" class=\"dataframe\">\n",
       "  <thead>\n",
       "    <tr style=\"text-align: right;\">\n",
       "      <th></th>\n",
       "      <th>Date</th>\n",
       "      <th>Time</th>\n",
       "      <th>IP</th>\n",
       "      <th>Email</th>\n",
       "      <th>Reason</th>\n",
       "    </tr>\n",
       "  </thead>\n",
       "  <tbody>\n",
       "    <tr>\n",
       "      <th>0</th>\n",
       "      <td>2008-11-08</td>\n",
       "      <td>06:32:46</td>\n",
       "      <td>89.223.216.72</td>\n",
       "      <td>toshiter@donin.com</td>\n",
       "      <td>Not supporting null originator</td>\n",
       "    </tr>\n",
       "    <tr>\n",
       "      <th>1</th>\n",
       "      <td>2008-11-08</td>\n",
       "      <td>06:33:17</td>\n",
       "      <td>208.99.214.236</td>\n",
       "      <td>moneydiet2@mx22.ecreditchoices7.com</td>\n",
       "      <td>msg denied before queued</td>\n",
       "    </tr>\n",
       "    <tr>\n",
       "      <th>2</th>\n",
       "      <td>2008-11-08</td>\n",
       "      <td>06:34:53</td>\n",
       "      <td>84.58.57.150</td>\n",
       "      <td>sundered@ancientinc.com</td>\n",
       "      <td>msg denied before queued</td>\n",
       "    </tr>\n",
       "    <tr>\n",
       "      <th>3</th>\n",
       "      <td>2008-11-08</td>\n",
       "      <td>06:35:41</td>\n",
       "      <td>58.126.113.198</td>\n",
       "      <td>benny@surecom.com</td>\n",
       "      <td>Not supporting null originator</td>\n",
       "    </tr>\n",
       "    <tr>\n",
       "      <th>4</th>\n",
       "      <td>2008-11-08</td>\n",
       "      <td>06:37:31</td>\n",
       "      <td>87.103.146.91</td>\n",
       "      <td>dwweem@wee.com</td>\n",
       "      <td>msg denied before queued</td>\n",
       "    </tr>\n",
       "    <tr>\n",
       "      <th>5</th>\n",
       "      <td>2008-11-08</td>\n",
       "      <td>06:37:41</td>\n",
       "      <td>87.103.146.91</td>\n",
       "      <td>dwtrupsm@trups.com</td>\n",
       "      <td>msg denied before queued</td>\n",
       "    </tr>\n",
       "  </tbody>\n",
       "</table>\n",
       "</div>"
      ],
      "text/plain": [
       "         Date      Time              IP                                Email  \\\n",
       "0  2008-11-08  06:32:46   89.223.216.72                   toshiter@donin.com   \n",
       "1  2008-11-08  06:33:17  208.99.214.236  moneydiet2@mx22.ecreditchoices7.com   \n",
       "2  2008-11-08  06:34:53    84.58.57.150              sundered@ancientinc.com   \n",
       "3  2008-11-08  06:35:41  58.126.113.198                    benny@surecom.com   \n",
       "4  2008-11-08  06:37:31   87.103.146.91                       dwweem@wee.com   \n",
       "5  2008-11-08  06:37:41   87.103.146.91                   dwtrupsm@trups.com   \n",
       "\n",
       "                           Reason  \n",
       "0  Not supporting null originator  \n",
       "1        msg denied before queued  \n",
       "2        msg denied before queued  \n",
       "3  Not supporting null originator  \n",
       "4        msg denied before queued  \n",
       "5        msg denied before queued  "
      ]
     },
     "execution_count": 425,
     "metadata": {},
     "output_type": "execute_result"
    }
   ],
   "source": [
    "f = open('email_log.txt', 'r')\n",
    "text = f.read()\n",
    "#print(text)\n",
    "f.close()\n",
    "\n",
    "# use regular expressions to select key element\n",
    "# create a data frame with this information\n",
    "mlist = re.finditer('(?P<Date>\\d{4}-\\d{2}-\\d{2}).*?(?P<Time>\\d{2}:\\d{2}:\\d{2}).*?(?P<IP>\\d{1,3}\\.\\d{1,3}\\.\\d{1,3}\\.\\d{1,3}).*?\\<(?P<Email>\\w+@[\\w\\.]+)\\>.*?(?P<Reason>\\w{3}\\s+\\w{6,10}\\s+\\w+\\s+\\w+).*?',text)\n",
    "#type(mlist)\n",
    "#print(mlist)\n",
    "myNewList = []\n",
    "for m in mlist:\n",
    "    myNewList.append({'Date':m['Date'],'Time':m['Time'],'IP':m['IP'],'Email':m['Email'],'Reason':m['Reason']})\n",
    "    \n",
    "# create a data frame with this information\n",
    "email_df = pd.DataFrame(myNewList)\n",
    "email_df"
   ]
  },
  {
   "cell_type": "markdown",
   "metadata": {},
   "source": [
    "## Single Raw Email\n",
    "For e-discovery (the process of identifying computer-based evidence for legal cases), sometimes you need to get information out of raw email files. Or maybe you are trying to automate a process, like support tickets, through email. Regex is a powerful way to extract the data."
   ]
  },
  {
   "cell_type": "code",
   "execution_count": 426,
   "metadata": {},
   "outputs": [],
   "source": [
    "f = open('raw_email.txt', 'r')\n",
    "text = f.read()\n",
    "#print(text)\n",
    "f.close()"
   ]
  },
  {
   "cell_type": "code",
   "execution_count": 427,
   "metadata": {},
   "outputs": [
    {
     "name": "stdout",
     "output_type": "stream",
     "text": [
      "['ethics@listserv.aoir.org', 'air-l@listserv.aoir.org']\n"
     ]
    }
   ],
   "source": [
    "# Get the email addresses of the lists this was sent to using regular expressions\n",
    "list_emails = re.findall(r'To: \".*',text)\n",
    "for line in list_emails:\n",
    "    print(re.findall('<([\\w.-]+@[\\w.-]+)>',line))"
   ]
  },
  {
   "cell_type": "code",
   "execution_count": 428,
   "metadata": {},
   "outputs": [
    {
     "name": "stdout",
     "output_type": "stream",
     "text": [
      "['Charles M. Ess']\n"
     ]
    }
   ],
   "source": [
    "# Get the name of the sender using regular expressions\n",
    "sender = re.findall(r'From:.*',text)\n",
    "for line in sender:\n",
    "    print(re.findall('\"(.*)\"',line))"
   ]
  },
  {
   "cell_type": "code",
   "execution_count": 429,
   "metadata": {},
   "outputs": [
    {
     "name": "stdout",
     "output_type": "stream",
     "text": [
      "['c.m.ess@media.uio.no']\n"
     ]
    }
   ],
   "source": [
    "# Get the email of the sender using regular expressions\n",
    "for line in sender:\n",
    "    print(re.findall('[\\w.-]+@[\\w.-]+',line))"
   ]
  },
  {
   "cell_type": "code",
   "execution_count": 430,
   "metadata": {},
   "outputs": [
    {
     "data": {
      "text/plain": [
       "['10.107.97.16',\n",
       " '68.232.143.84',\n",
       " '018.04.06.23',\n",
       " '64.90.62.202',\n",
       " '64.90.62.202',\n",
       " '129.240.10.50',\n",
       " '129.240.10.40',\n",
       " '42.249.16.62',\n",
       " '62.16.249.42',\n",
       " '192.168.1.122',\n",
       " '62.16.249.42',\n",
       " '62.16.249.42',\n",
       " '192.168.1.122']"
      ]
     },
     "execution_count": 430,
     "metadata": {},
     "output_type": "execute_result"
    }
   ],
   "source": [
    "# Find all the IP addresses using regular expressions\n",
    "ip_address = re.findall('\\d{1,3}\\.\\d{1,3}\\.\\d{1,3}\\.\\d{1,3}',text)\n",
    "ip_address"
   ]
  },
  {
   "cell_type": "markdown",
   "metadata": {},
   "source": [
    "## Multiple Raw Emails\n",
    "From: https://www.kaggle.com/rtatman/fraudulent-email-corpus\n",
    "* See acknowledgements required if this data is to be used in formal papers (not this assignment)\n",
    "\n",
    "**Context:**\n",
    "Fraudulent e-mails contain criminally deceptive information, usually with the intent of convincing the recipient to give the sender a large amount of money. Perhaps the best known type of fraudulent e-mails is the Nigerian Letter or “419” Fraud.\n",
    "\n",
    "**Content:**\n",
    "This dataset is a collection of more than 2,500 \"Nigerian\" Fraud Letters, dating from 1998 to 2007.\n",
    "\n",
    "These emails are in a single text file. Each e-mail has a header which includes the following information:\n",
    "\n",
    "- Return-Path: address the email was sent from\n",
    "- X-Sieve: the X-Sieve host (always cmu-sieve 2.0)\n",
    "- Message-Id: a unique identifier for each message\n",
    "- From: the message sender (sometimes blank)\n",
    "- Reply-To: the email address to which replies will be sent\n",
    "- To: the email address to which the e-mail was originally set (some are truncated for anonymity)\n",
    "- Date: Date e-mail was sent\n",
    "- Subject: Subject line of e-mail\n",
    "- X-Mailer: The platform the e-mail was sent from\n",
    "- MIME-Version: The Multipurpose Internet Mail Extension version\n",
    "- Content-Type: type of content & character encoding\n",
    "- Content-Transfer-Encoding: encoding in bits\n",
    "- X-MIME-Autoconverted: the type of autoconversion done\n",
    "- Status: r (read) and o (opened)"
   ]
  },
  {
   "cell_type": "code",
   "execution_count": 432,
   "metadata": {},
   "outputs": [],
   "source": [
    "# I created a minimized version of the original file.\n",
    "f = open('fraudulent_emails_minimized.txt', 'r', encoding=\"ISO-8859-1\")\n",
    "text = f.read()\n",
    "#print(text)\n",
    "f.close()"
   ]
  },
  {
   "cell_type": "code",
   "execution_count": 433,
   "metadata": {},
   "outputs": [
    {
     "data": {
      "text/html": [
       "<div>\n",
       "<style scoped>\n",
       "    .dataframe tbody tr th:only-of-type {\n",
       "        vertical-align: middle;\n",
       "    }\n",
       "\n",
       "    .dataframe tbody tr th {\n",
       "        vertical-align: top;\n",
       "    }\n",
       "\n",
       "    .dataframe thead th {\n",
       "        text-align: right;\n",
       "    }\n",
       "</style>\n",
       "<table border=\"1\" class=\"dataframe\">\n",
       "  <thead>\n",
       "    <tr style=\"text-align: right;\">\n",
       "      <th></th>\n",
       "      <th>Subjects</th>\n",
       "    </tr>\n",
       "  </thead>\n",
       "  <tbody>\n",
       "    <tr>\n",
       "      <th>0</th>\n",
       "      <td>URGENT BUSINESS ASSISTANCE AND PARTNERSHIP</td>\n",
       "    </tr>\n",
       "    <tr>\n",
       "      <th>1</th>\n",
       "      <td>URGENT ASSISTANCE /RELATIONSHIP (P)</td>\n",
       "    </tr>\n",
       "    <tr>\n",
       "      <th>2</th>\n",
       "      <td>GOOD DAY TO YOU</td>\n",
       "    </tr>\n",
       "    <tr>\n",
       "      <th>3</th>\n",
       "      <td>GOOD DAY TO YOU</td>\n",
       "    </tr>\n",
       "    <tr>\n",
       "      <th>4</th>\n",
       "      <td>I Need Your Assistance.</td>\n",
       "    </tr>\n",
       "    <tr>\n",
       "      <th>5</th>\n",
       "      <td>Partnership</td>\n",
       "    </tr>\n",
       "    <tr>\n",
       "      <th>6</th>\n",
       "      <td>Urgent Attention</td>\n",
       "    </tr>\n",
       "    <tr>\n",
       "      <th>7</th>\n",
       "      <td>URGENT BUSINESS PRPOSAL</td>\n",
       "    </tr>\n",
       "    <tr>\n",
       "      <th>8</th>\n",
       "      <td>THANK YOU</td>\n",
       "    </tr>\n",
       "    <tr>\n",
       "      <th>9</th>\n",
       "      <td>Urgent Assistance</td>\n",
       "    </tr>\n",
       "  </tbody>\n",
       "</table>\n",
       "</div>"
      ],
      "text/plain": [
       "                                      Subjects\n",
       "0   URGENT BUSINESS ASSISTANCE AND PARTNERSHIP\n",
       "1          URGENT ASSISTANCE /RELATIONSHIP (P)\n",
       "2                              GOOD DAY TO YOU\n",
       "3                              GOOD DAY TO YOU\n",
       "4                      I Need Your Assistance.\n",
       "5                                  Partnership\n",
       "6                             Urgent Attention\n",
       "7                      URGENT BUSINESS PRPOSAL\n",
       "8                                    THANK YOU\n",
       "9                            Urgent Assistance"
      ]
     },
     "execution_count": 433,
     "metadata": {},
     "output_type": "execute_result"
    }
   ],
   "source": [
    "# Get the \"Subject:\" of the emails using regular expressions and put them in a dataframe\n",
    "# remove any that do not contain any text\n",
    "subjects = re.findall(r'Subject:(.*)',text)\n",
    "subject_list = []\n",
    "\n",
    "for line in subjects:\n",
    "    if line != ' ':\n",
    "        subject_list.append(line)\n",
    "\n",
    "subject_df = pd.DataFrame(subject_list)\n",
    "subject_df.columns=['Subjects']\n",
    "subject_df.head(10)"
   ]
  },
  {
   "cell_type": "code",
   "execution_count": 434,
   "metadata": {},
   "outputs": [
    {
     "data": {
      "text/plain": [
       "Subjects                 \n",
       " URGENT                      8\n",
       " CONFIDENTIAL/COOPERATION    7\n",
       " URGENT ASSISTANCE           7\n",
       " BUSINESS PROPOSAL           6\n",
       " URGENT BUSINESS PROPOSAL    6\n",
       "dtype: int64"
      ]
     },
     "execution_count": 434,
     "metadata": {},
     "output_type": "execute_result"
    }
   ],
   "source": [
    "# Write an aggregation to see the top 5 subject lines by count\n",
    "top_5_subjects = subject_df.value_counts().head(5)\n",
    "top_5_subjects"
   ]
  },
  {
   "cell_type": "code",
   "execution_count": 435,
   "metadata": {},
   "outputs": [
    {
     "data": {
      "text/html": [
       "<div>\n",
       "<style scoped>\n",
       "    .dataframe tbody tr th:only-of-type {\n",
       "        vertical-align: middle;\n",
       "    }\n",
       "\n",
       "    .dataframe tbody tr th {\n",
       "        vertical-align: top;\n",
       "    }\n",
       "\n",
       "    .dataframe thead th {\n",
       "        text-align: right;\n",
       "    }\n",
       "</style>\n",
       "<table border=\"1\" class=\"dataframe\">\n",
       "  <thead>\n",
       "    <tr style=\"text-align: right;\">\n",
       "      <th></th>\n",
       "      <th>From:</th>\n",
       "    </tr>\n",
       "  </thead>\n",
       "  <tbody>\n",
       "    <tr>\n",
       "      <th>0</th>\n",
       "      <td>james_ngola2002@maktoob.com</td>\n",
       "    </tr>\n",
       "    <tr>\n",
       "      <th>1</th>\n",
       "      <td>bensul2004nng@spinfinder.com</td>\n",
       "    </tr>\n",
       "    <tr>\n",
       "      <th>2</th>\n",
       "      <td>obong_715@epatra.com</td>\n",
       "    </tr>\n",
       "    <tr>\n",
       "      <th>3</th>\n",
       "      <td>obong_715@epatra.com</td>\n",
       "    </tr>\n",
       "    <tr>\n",
       "      <th>4</th>\n",
       "      <td>m_abacha03@www.com</td>\n",
       "    </tr>\n",
       "    <tr>\n",
       "      <th>5</th>\n",
       "      <td>davidkuta@postmark.net</td>\n",
       "    </tr>\n",
       "    <tr>\n",
       "      <th>6</th>\n",
       "      <td>tunde_dosumu@lycos.com</td>\n",
       "    </tr>\n",
       "    <tr>\n",
       "      <th>7</th>\n",
       "      <td>william2244drallo@maktoob.com</td>\n",
       "    </tr>\n",
       "    <tr>\n",
       "      <th>8</th>\n",
       "      <td>abdul_817@rediffmail.com</td>\n",
       "    </tr>\n",
       "    <tr>\n",
       "      <th>9</th>\n",
       "      <td>barrister_td@lycos.com</td>\n",
       "    </tr>\n",
       "  </tbody>\n",
       "</table>\n",
       "</div>"
      ],
      "text/plain": [
       "                           From:\n",
       "0    james_ngola2002@maktoob.com\n",
       "1   bensul2004nng@spinfinder.com\n",
       "2           obong_715@epatra.com\n",
       "3           obong_715@epatra.com\n",
       "4             m_abacha03@www.com\n",
       "5         davidkuta@postmark.net\n",
       "6         tunde_dosumu@lycos.com\n",
       "7  william2244drallo@maktoob.com\n",
       "8       abdul_817@rediffmail.com\n",
       "9         barrister_td@lycos.com"
      ]
     },
     "execution_count": 435,
     "metadata": {},
     "output_type": "execute_result"
    }
   ],
   "source": [
    "# Get the \"From:\" of the emails using regular expressions and put the emails in a dataframe\n",
    "# remove any that do not contain any text\n",
    "from_list = re.findall(r'From:.*<([\\w.-]+@[\\w.-]+)>',text)\n",
    "from_list\n",
    "\n",
    "from_df = pd.DataFrame(from_list)\n",
    "from_df.columns=['From:']\n",
    "from_df.head(10)"
   ]
  },
  {
   "cell_type": "code",
   "execution_count": 436,
   "metadata": {},
   "outputs": [
    {
     "data": {
      "text/plain": [
       "From:                          \n",
       "sameezx6@go.com                    5\n",
       "victoriabucknor23@mail15.com       4\n",
       "ejieego@netscape.net               4\n",
       "mohammedabacha000@tiscali.co.uk    4\n",
       "jdsouza1@hotvoice.com              4\n",
       "dtype: int64"
      ]
     },
     "execution_count": 436,
     "metadata": {},
     "output_type": "execute_result"
    }
   ],
   "source": [
    "# Write an aggregation to see the top 5 \"From:\" by count\n",
    "top_5_from = from_df.value_counts().head(5)\n",
    "top_5_from"
   ]
  },
  {
   "cell_type": "code",
   "execution_count": 437,
   "metadata": {},
   "outputs": [
    {
     "data": {
      "text/html": [
       "<div>\n",
       "<style scoped>\n",
       "    .dataframe tbody tr th:only-of-type {\n",
       "        vertical-align: middle;\n",
       "    }\n",
       "\n",
       "    .dataframe tbody tr th {\n",
       "        vertical-align: top;\n",
       "    }\n",
       "\n",
       "    .dataframe thead th {\n",
       "        text-align: right;\n",
       "    }\n",
       "</style>\n",
       "<table border=\"1\" class=\"dataframe\">\n",
       "  <thead>\n",
       "    <tr style=\"text-align: right;\">\n",
       "      <th></th>\n",
       "      <th>Date/Time</th>\n",
       "      <th>Date</th>\n",
       "      <th>Time</th>\n",
       "    </tr>\n",
       "  </thead>\n",
       "  <tbody>\n",
       "    <tr>\n",
       "      <th>0</th>\n",
       "      <td>Thu, 31 Oct 2002 02:38:20</td>\n",
       "      <td>2002-10-31</td>\n",
       "      <td>02:38:20</td>\n",
       "    </tr>\n",
       "    <tr>\n",
       "      <th>1</th>\n",
       "      <td>Thu, 31 Oct 2002 05:10:00</td>\n",
       "      <td>2002-10-31</td>\n",
       "      <td>05:10:00</td>\n",
       "    </tr>\n",
       "    <tr>\n",
       "      <th>2</th>\n",
       "      <td>Thu, 31 Oct 2002 22:17:55</td>\n",
       "      <td>2002-10-31</td>\n",
       "      <td>22:17:55</td>\n",
       "    </tr>\n",
       "    <tr>\n",
       "      <th>3</th>\n",
       "      <td>Thu, 31 Oct 2002 22:44:20</td>\n",
       "      <td>2002-10-31</td>\n",
       "      <td>22:44:20</td>\n",
       "    </tr>\n",
       "    <tr>\n",
       "      <th>4</th>\n",
       "      <td>Fri, 1 Nov 2002 01:45:04</td>\n",
       "      <td>2002-11-01</td>\n",
       "      <td>01:45:04</td>\n",
       "    </tr>\n",
       "    <tr>\n",
       "      <th>...</th>\n",
       "      <td>...</td>\n",
       "      <td>...</td>\n",
       "      <td>...</td>\n",
       "    </tr>\n",
       "    <tr>\n",
       "      <th>501</th>\n",
       "      <td>Mon, 15 Dec 2003 05:52:47</td>\n",
       "      <td>2003-12-15</td>\n",
       "      <td>05:52:47</td>\n",
       "    </tr>\n",
       "    <tr>\n",
       "      <th>502</th>\n",
       "      <td>Mon, 15 Dec 2003 18:05:45</td>\n",
       "      <td>2003-12-15</td>\n",
       "      <td>18:05:45</td>\n",
       "    </tr>\n",
       "    <tr>\n",
       "      <th>503</th>\n",
       "      <td>Mon, 15 Dec 2003 19:02:24</td>\n",
       "      <td>2003-12-15</td>\n",
       "      <td>19:02:24</td>\n",
       "    </tr>\n",
       "    <tr>\n",
       "      <th>504</th>\n",
       "      <td>Mon, 15 Dec 2003 19:03:05</td>\n",
       "      <td>2003-12-15</td>\n",
       "      <td>19:03:05</td>\n",
       "    </tr>\n",
       "    <tr>\n",
       "      <th>505</th>\n",
       "      <td>Tue, 16 Dec 2003 08:15:15</td>\n",
       "      <td>2003-12-16</td>\n",
       "      <td>08:15:15</td>\n",
       "    </tr>\n",
       "  </tbody>\n",
       "</table>\n",
       "<p>506 rows × 3 columns</p>\n",
       "</div>"
      ],
      "text/plain": [
       "                     Date/Time       Date      Time\n",
       "0    Thu, 31 Oct 2002 02:38:20 2002-10-31  02:38:20\n",
       "1    Thu, 31 Oct 2002 05:10:00 2002-10-31  05:10:00\n",
       "2    Thu, 31 Oct 2002 22:17:55 2002-10-31  22:17:55\n",
       "3    Thu, 31 Oct 2002 22:44:20 2002-10-31  22:44:20\n",
       "4     Fri, 1 Nov 2002 01:45:04 2002-11-01  01:45:04\n",
       "..                         ...        ...       ...\n",
       "501  Mon, 15 Dec 2003 05:52:47 2003-12-15  05:52:47\n",
       "502  Mon, 15 Dec 2003 18:05:45 2003-12-15  18:05:45\n",
       "503  Mon, 15 Dec 2003 19:02:24 2003-12-15  19:02:24\n",
       "504  Mon, 15 Dec 2003 19:03:05 2003-12-15  19:03:05\n",
       "505  Tue, 16 Dec 2003 08:15:15 2003-12-16  08:15:15\n",
       "\n",
       "[506 rows x 3 columns]"
      ]
     },
     "execution_count": 437,
     "metadata": {},
     "output_type": "execute_result"
    }
   ],
   "source": [
    "# Get the \"Date:\" of the emails using regular expressions and put them in a dataframe\n",
    "# Remove any rows without a date\n",
    "# Remove any that are before 1998 (you'll see some from 1980...obvious errors)\n",
    "#date_list = re.findall('Date:.*(\\w{3}, \\d{1,2} \\w{3} [0,1,9,8]{4})',text) \n",
    "#USING THE CODE ABOVE I CAN SEE THAT THE ONLY DATES FROM THE 90s THAT WE WANT TO COUNT ARE FROM 99.\n",
    "dates = re.findall('Date:.*(\\w{3}, \\d{1,2} \\w{3} [0,1,2,3,9]{4} \\d{2}:\\d{2}:\\d{2})',text) #Exclude the number 8 so we don't get 1980 in our date section.\n",
    "date_df = pd.DataFrame(dates)\n",
    "date_df.columns=['Date/Time']\n",
    "date_df[['Date','Time']] = date_df['Date/Time'].str.rsplit(' ',n=1, expand=True)\n",
    "date_df['Date'] = pd.to_datetime(date_df['Date'])\n",
    "date_df\n"
   ]
  },
  {
   "cell_type": "markdown",
   "metadata": {},
   "source": [
    "### Using our previous knowledge on Date Time, we can convert our dates from our emails into datetime to create our visualizations.\n",
    "\n",
    "###### Days of the Week:\n",
    "- Monday = 0\n",
    "- Tuesday = 1\n",
    "- Wednesday = 2\n",
    "- Thursday = 3\n",
    "- Friday = 4\n",
    "- Saturday = 5\n",
    "- Sunday = 6"
   ]
  },
  {
   "cell_type": "code",
   "execution_count": 438,
   "metadata": {},
   "outputs": [
    {
     "data": {
      "text/html": [
       "<div>\n",
       "<style scoped>\n",
       "    .dataframe tbody tr th:only-of-type {\n",
       "        vertical-align: middle;\n",
       "    }\n",
       "\n",
       "    .dataframe tbody tr th {\n",
       "        vertical-align: top;\n",
       "    }\n",
       "\n",
       "    .dataframe thead th {\n",
       "        text-align: right;\n",
       "    }\n",
       "</style>\n",
       "<table border=\"1\" class=\"dataframe\">\n",
       "  <thead>\n",
       "    <tr style=\"text-align: right;\">\n",
       "      <th></th>\n",
       "      <th>DayOfWeek</th>\n",
       "      <th>Num_of_emails</th>\n",
       "    </tr>\n",
       "  </thead>\n",
       "  <tbody>\n",
       "    <tr>\n",
       "      <th>0</th>\n",
       "      <td>0</td>\n",
       "      <td>92</td>\n",
       "    </tr>\n",
       "    <tr>\n",
       "      <th>1</th>\n",
       "      <td>1</td>\n",
       "      <td>83</td>\n",
       "    </tr>\n",
       "    <tr>\n",
       "      <th>2</th>\n",
       "      <td>2</td>\n",
       "      <td>68</td>\n",
       "    </tr>\n",
       "    <tr>\n",
       "      <th>3</th>\n",
       "      <td>3</td>\n",
       "      <td>88</td>\n",
       "    </tr>\n",
       "    <tr>\n",
       "      <th>4</th>\n",
       "      <td>4</td>\n",
       "      <td>73</td>\n",
       "    </tr>\n",
       "    <tr>\n",
       "      <th>5</th>\n",
       "      <td>5</td>\n",
       "      <td>62</td>\n",
       "    </tr>\n",
       "    <tr>\n",
       "      <th>6</th>\n",
       "      <td>6</td>\n",
       "      <td>40</td>\n",
       "    </tr>\n",
       "  </tbody>\n",
       "</table>\n",
       "</div>"
      ],
      "text/plain": [
       "   DayOfWeek  Num_of_emails\n",
       "0          0             92\n",
       "1          1             83\n",
       "2          2             68\n",
       "3          3             88\n",
       "4          4             73\n",
       "5          5             62\n",
       "6          6             40"
      ]
     },
     "execution_count": 438,
     "metadata": {},
     "output_type": "execute_result"
    }
   ],
   "source": [
    "# Create a graph by day of week when the email was sent\n",
    "# Does there seem to be a difference in terms of the day of the week a fraudulent email was sent?\n",
    "date_df['DayOfWeek'] = date_df['Date'].dt.weekday\n",
    "dowDF = date_df[['DayOfWeek','Date']].groupby('DayOfWeek').agg('count').reset_index()\n",
    "dowDF.columns = ['DayOfWeek','Num_of_emails']\n",
    "dowDF"
   ]
  },
  {
   "cell_type": "code",
   "execution_count": 439,
   "metadata": {},
   "outputs": [
    {
     "data": {
      "image/png": "[encoded data removed]",
      "text/plain": [
       "<Figure size 432x288 with 1 Axes>"
      ]
     },
     "metadata": {
      "needs_background": "light"
     },
     "output_type": "display_data"
    }
   ],
   "source": [
    "plt.bar(dowDF['DayOfWeek'],dowDF['Num_of_emails'],color='salmon')\n",
    "plt.ylabel('Number of Emails');\n",
    "plt.xlabel('Day of Week');\n",
    "plt.title('Day of Week vs. Number of Emails');"
   ]
  },
  {
   "cell_type": "markdown",
   "metadata": {},
   "source": [
    "#### Does there seem to be a difference in terms of the day of the week a fraudulent email was sent?\n",
    "Looking at our day of the week dataframe and barchart, the majority of fraudulent emails are sent on a week day. The most emails were sent on Monday, and the least emails were sent on Sunday. However, looking at the general trend of the emails it was pretty consistent throughout and there were no significant differences between days."
   ]
  },
  {
   "cell_type": "code",
   "execution_count": 442,
   "metadata": {},
   "outputs": [
    {
     "data": {
      "text/html": [
       "<div>\n",
       "<style scoped>\n",
       "    .dataframe tbody tr th:only-of-type {\n",
       "        vertical-align: middle;\n",
       "    }\n",
       "\n",
       "    .dataframe tbody tr th {\n",
       "        vertical-align: top;\n",
       "    }\n",
       "\n",
       "    .dataframe thead th {\n",
       "        text-align: right;\n",
       "    }\n",
       "</style>\n",
       "<table border=\"1\" class=\"dataframe\">\n",
       "  <thead>\n",
       "    <tr style=\"text-align: right;\">\n",
       "      <th></th>\n",
       "      <th>Hour</th>\n",
       "      <th>Num_of_emails</th>\n",
       "    </tr>\n",
       "  </thead>\n",
       "  <tbody>\n",
       "    <tr>\n",
       "      <th>0</th>\n",
       "      <td>0</td>\n",
       "      <td>20</td>\n",
       "    </tr>\n",
       "    <tr>\n",
       "      <th>1</th>\n",
       "      <td>1</td>\n",
       "      <td>24</td>\n",
       "    </tr>\n",
       "    <tr>\n",
       "      <th>2</th>\n",
       "      <td>2</td>\n",
       "      <td>23</td>\n",
       "    </tr>\n",
       "    <tr>\n",
       "      <th>3</th>\n",
       "      <td>3</td>\n",
       "      <td>19</td>\n",
       "    </tr>\n",
       "    <tr>\n",
       "      <th>4</th>\n",
       "      <td>4</td>\n",
       "      <td>19</td>\n",
       "    </tr>\n",
       "    <tr>\n",
       "      <th>5</th>\n",
       "      <td>5</td>\n",
       "      <td>20</td>\n",
       "    </tr>\n",
       "    <tr>\n",
       "      <th>6</th>\n",
       "      <td>6</td>\n",
       "      <td>20</td>\n",
       "    </tr>\n",
       "    <tr>\n",
       "      <th>7</th>\n",
       "      <td>7</td>\n",
       "      <td>23</td>\n",
       "    </tr>\n",
       "    <tr>\n",
       "      <th>8</th>\n",
       "      <td>8</td>\n",
       "      <td>29</td>\n",
       "    </tr>\n",
       "    <tr>\n",
       "      <th>9</th>\n",
       "      <td>9</td>\n",
       "      <td>13</td>\n",
       "    </tr>\n",
       "    <tr>\n",
       "      <th>10</th>\n",
       "      <td>10</td>\n",
       "      <td>13</td>\n",
       "    </tr>\n",
       "    <tr>\n",
       "      <th>11</th>\n",
       "      <td>11</td>\n",
       "      <td>13</td>\n",
       "    </tr>\n",
       "    <tr>\n",
       "      <th>12</th>\n",
       "      <td>12</td>\n",
       "      <td>13</td>\n",
       "    </tr>\n",
       "    <tr>\n",
       "      <th>13</th>\n",
       "      <td>13</td>\n",
       "      <td>26</td>\n",
       "    </tr>\n",
       "    <tr>\n",
       "      <th>14</th>\n",
       "      <td>14</td>\n",
       "      <td>23</td>\n",
       "    </tr>\n",
       "    <tr>\n",
       "      <th>15</th>\n",
       "      <td>15</td>\n",
       "      <td>23</td>\n",
       "    </tr>\n",
       "    <tr>\n",
       "      <th>16</th>\n",
       "      <td>16</td>\n",
       "      <td>45</td>\n",
       "    </tr>\n",
       "    <tr>\n",
       "      <th>17</th>\n",
       "      <td>17</td>\n",
       "      <td>25</td>\n",
       "    </tr>\n",
       "    <tr>\n",
       "      <th>18</th>\n",
       "      <td>18</td>\n",
       "      <td>26</td>\n",
       "    </tr>\n",
       "    <tr>\n",
       "      <th>19</th>\n",
       "      <td>19</td>\n",
       "      <td>22</td>\n",
       "    </tr>\n",
       "    <tr>\n",
       "      <th>20</th>\n",
       "      <td>20</td>\n",
       "      <td>15</td>\n",
       "    </tr>\n",
       "    <tr>\n",
       "      <th>21</th>\n",
       "      <td>21</td>\n",
       "      <td>14</td>\n",
       "    </tr>\n",
       "    <tr>\n",
       "      <th>22</th>\n",
       "      <td>22</td>\n",
       "      <td>20</td>\n",
       "    </tr>\n",
       "    <tr>\n",
       "      <th>23</th>\n",
       "      <td>23</td>\n",
       "      <td>18</td>\n",
       "    </tr>\n",
       "  </tbody>\n",
       "</table>\n",
       "</div>"
      ],
      "text/plain": [
       "    Hour  Num_of_emails\n",
       "0      0             20\n",
       "1      1             24\n",
       "2      2             23\n",
       "3      3             19\n",
       "4      4             19\n",
       "5      5             20\n",
       "6      6             20\n",
       "7      7             23\n",
       "8      8             29\n",
       "9      9             13\n",
       "10    10             13\n",
       "11    11             13\n",
       "12    12             13\n",
       "13    13             26\n",
       "14    14             23\n",
       "15    15             23\n",
       "16    16             45\n",
       "17    17             25\n",
       "18    18             26\n",
       "19    19             22\n",
       "20    20             15\n",
       "21    21             14\n",
       "22    22             20\n",
       "23    23             18"
      ]
     },
     "execution_count": 442,
     "metadata": {},
     "output_type": "execute_result"
    }
   ],
   "source": [
    "# Create a graph by hour of day when the email was sent\n",
    "# Does there seem to be a difference in terms of the hour of the day a fraudulent email was sent?\n",
    "date_df['HourOfDay'] = date_df[\"Time\"].apply(lambda x:datetime.datetime.strptime(x,\"%H:%M:%S\").hour)\n",
    "hourDF = date_df[['HourOfDay','Date']].groupby('HourOfDay').agg('count').reset_index()\n",
    "hourDF.columns = ['Hour','Num_of_emails']\n",
    "hourDF"
   ]
  },
  {
   "cell_type": "code",
   "execution_count": 441,
   "metadata": {},
   "outputs": [
    {
     "data": {
      "image/png": "[encoded data removed]",
      "text/plain": [
       "<Figure size 432x288 with 1 Axes>"
      ]
     },
     "metadata": {
      "needs_background": "light"
     },
     "output_type": "display_data"
    }
   ],
   "source": [
    "plt.bar(hourDF['Hour'],hourDF['Num_of_emails'],color='salmon');\n",
    "plt.xticks(rotation = 0);\n",
    "plt.ylabel('Number of Emails');\n",
    "plt.xlabel('Hour of Day');\n",
    "plt.title('Hour of Day vs. Number of Emails');"
   ]
  },
  {
   "cell_type": "markdown",
   "metadata": {},
   "source": [
    "#### Does there seem to be a difference in terms of the hour of the day a fraudulent email was sent?\n",
    "Looking at our hour dataframe as well as our barchart, you can see that there doesn't seem to be a difference in terms of the hour of the day a fradulent email was sent. The emails were very consistent throughout the day except for 9 am to Noon where there were limited fraudulent emails sent. The most fraudulent emails were sent around 4:00 pm."
   ]
  },
  {
   "cell_type": "code",
   "execution_count": null,
   "metadata": {},
   "outputs": [],
   "source": []
  }
 ],
 "metadata": {
  "kernelspec": {
   "display_name": "Python 3",
   "language": "python",
   "name": "python3"
  },
  "language_info": {
   "codemirror_mode": {
    "name": "ipython",
    "version": 3
   },
   "file_extension": ".py",
   "mimetype": "text/x-python",
   "name": "python",
   "nbconvert_exporter": "python",
   "pygments_lexer": "ipython3",
   "version": "3.8.5"
  }
 },
 "nbformat": 4,
 "nbformat_minor": 2
}
