{
 "cells": [
  {
   "cell_type": "markdown",
   "metadata": {},
   "source": [
    "## Assignment 4 - Web and API\n",
    "#### Research Question: Which data science tool is more popular in the data science/statistics community pandas or R?\n",
    "INST447-ESG1 Spring 2021 - Farmer<br>\n",
    "Dillon Morley\n",
    "UID: 114735850\n",
    "\n",
    "**Resources:<br>**\n",
    "- https://api.stackexchange.com/docs\n",
    "- https://api.stackexchange.com/docs/tags-by-name\n",
    "- https://requests.readthedocs.io/en/master/\n",
    "\n",
    "**Sources:**\n",
    "- Stack- Pandas: https://stackoverflow.com/tags/pandas\n",
    "- Stack - R: https://stackoverflow.com/tags/r\n",
    "- Stats - Pandas: https://stats.stackexchange.com/?tags=pandas\n",
    "- Stats - R: https://stats.stackexchange.com/?tags=r\n",
    "- Data Science - Pandas: https://datascience.stackexchange.com/tags/pandas\n",
    "- Data Science - R: https://datascience.stackexchange.com/tags/r"
   ]
  },
  {
   "cell_type": "code",
   "execution_count": 27,
   "metadata": {},
   "outputs": [],
   "source": [
    "#Import modules needed for our analysis.\n",
    "import pandas as pd\n",
    "import numpy as np\n",
    "import requests\n",
    "from pandas.io.json import json_normalize #special package in pandas\n",
    "import json"
   ]
  },
  {
   "cell_type": "markdown",
   "metadata": {},
   "source": [
    "#### Step 1: Create Requests Using Stack Exchange API\n",
    "The following lines of code create a request using the the Stack Exchange API to request information from the six sites listed under sources. The API_requests portion of the code is a list that contains all the response objects. The end of the code filters through this list and prints the status code, headers, and encoding for each response object."
   ]
  },
  {
   "cell_type": "code",
   "execution_count": 366,
   "metadata": {},
   "outputs": [
    {
     "name": "stdout",
     "output_type": "stream",
     "text": [
      " Status Code: 200 \n",
      " Headers: {'cache-control': 'private', 'content-length': '146', 'content-type': 'application/json; charset=utf-8', 'content-encoding': 'gzip', 'strict-transport-security': 'max-age=15552000', 'access-control-allow-origin': '*', 'access-control-allow-methods': 'GET, POST', 'access-control-allow-credentials': 'false', 'x-content-type-options': 'nosniff', 'x-request-guid': 'a7556b6d-cecb-4e62-8ca1-b24565b5c18d', 'set-cookie': 'prov=c754f9ca-2355-4c65-9c63-2cb860c3a4aa; expires=Fri, 01 Jan 2055 00:00:00 GMT; domain=.stackexchange.com; path=/; secure; samesite=none; httponly', 'content-security-policy': \"upgrade-insecure-requests; frame-ancestors 'self' https://stackexchange.com\", 'date': 'Mon, 03 May 2021 21:24:51 GMT'} \n",
      " Encoding:  utf-8 \n",
      "\n",
      " Status Code: 200 \n",
      " Headers: {'cache-control': 'private', 'content-length': '143', 'content-type': 'application/json; charset=utf-8', 'content-encoding': 'gzip', 'strict-transport-security': 'max-age=15552000', 'access-control-allow-origin': '*', 'access-control-allow-methods': 'GET, POST', 'access-control-allow-credentials': 'false', 'x-content-type-options': 'nosniff', 'x-request-guid': '589603fd-d8a1-4478-9152-dfb0deda11df', 'set-cookie': 'prov=33ea76aa-4763-45f0-9cfe-0dc993fcb7aa; expires=Fri, 01 Jan 2055 00:00:00 GMT; domain=.stackexchange.com; path=/; secure; samesite=none; httponly', 'content-security-policy': \"upgrade-insecure-requests; frame-ancestors 'self' https://stackexchange.com\", 'date': 'Mon, 03 May 2021 21:24:51 GMT'} \n",
      " Encoding:  utf-8 \n",
      "\n",
      " Status Code: 200 \n",
      " Headers: {'cache-control': 'private', 'content-length': '144', 'content-type': 'application/json; charset=utf-8', 'content-encoding': 'gzip', 'strict-transport-security': 'max-age=15552000', 'access-control-allow-origin': '*', 'access-control-allow-methods': 'GET, POST', 'access-control-allow-credentials': 'false', 'x-content-type-options': 'nosniff', 'x-request-guid': '3baee99a-b08a-42d6-950d-e8bdc196b193', 'set-cookie': 'prov=766830f0-2fc2-47ad-8052-cc9a11d6450d; expires=Fri, 01 Jan 2055 00:00:00 GMT; domain=.stackexchange.com; path=/; secure; samesite=none; httponly', 'content-security-policy': \"upgrade-insecure-requests; frame-ancestors 'self' https://stackexchange.com\", 'date': 'Mon, 03 May 2021 21:24:51 GMT'} \n",
      " Encoding:  utf-8 \n",
      "\n",
      " Status Code: 200 \n",
      " Headers: {'cache-control': 'private', 'content-length': '144', 'content-type': 'application/json; charset=utf-8', 'content-encoding': 'gzip', 'strict-transport-security': 'max-age=15552000', 'access-control-allow-origin': '*', 'access-control-allow-methods': 'GET, POST', 'access-control-allow-credentials': 'false', 'x-content-type-options': 'nosniff', 'x-request-guid': 'e00d4d6a-42b6-4d5f-953b-fd6975607bde', 'set-cookie': 'prov=2697aa36-7cbe-476a-944f-3fa1d6d1624c; expires=Fri, 01 Jan 2055 00:00:00 GMT; domain=.stackexchange.com; path=/; secure; samesite=none; httponly', 'content-security-policy': \"upgrade-insecure-requests; frame-ancestors 'self' https://stackexchange.com\", 'date': 'Mon, 03 May 2021 21:24:51 GMT'} \n",
      " Encoding:  utf-8 \n",
      "\n",
      " Status Code: 200 \n",
      " Headers: {'cache-control': 'private', 'content-length': '143', 'content-type': 'application/json; charset=utf-8', 'content-encoding': 'gzip', 'strict-transport-security': 'max-age=15552000', 'access-control-allow-origin': '*', 'access-control-allow-methods': 'GET, POST', 'access-control-allow-credentials': 'false', 'x-content-type-options': 'nosniff', 'x-request-guid': 'd549b205-5f61-4b31-b621-2d38a16dd559', 'set-cookie': 'prov=e3ea0f24-37cb-45b7-b22f-0459801988da; expires=Fri, 01 Jan 2055 00:00:00 GMT; domain=.stackexchange.com; path=/; secure; samesite=none; httponly', 'content-security-policy': \"upgrade-insecure-requests; frame-ancestors 'self' https://stackexchange.com\", 'date': 'Mon, 03 May 2021 21:24:51 GMT'} \n",
      " Encoding:  utf-8 \n",
      "\n",
      " Status Code: 200 \n",
      " Headers: {'cache-control': 'private', 'content-length': '140', 'content-type': 'application/json; charset=utf-8', 'content-encoding': 'gzip', 'strict-transport-security': 'max-age=15552000', 'access-control-allow-origin': '*', 'access-control-allow-methods': 'GET, POST', 'access-control-allow-credentials': 'false', 'x-content-type-options': 'nosniff', 'x-request-guid': 'f08c0ec6-6cdb-4cb4-93f8-2c8c3e0ba2b0', 'set-cookie': 'prov=77af502c-44dc-4225-b45e-f1ac0315945a; expires=Fri, 01 Jan 2055 00:00:00 GMT; domain=.stackexchange.com; path=/; secure; samesite=none; httponly', 'content-security-policy': \"upgrade-insecure-requests; frame-ancestors 'self' https://stackexchange.com\", 'date': 'Mon, 03 May 2021 21:24:52 GMT'} \n",
      " Encoding:  utf-8 \n",
      "\n"
     ]
    }
   ],
   "source": [
    "# Step - 1\n",
    "# use the stackexchange API for pandas across the three sites (stack, stat, DataScience)\n",
    "#     You will need to do the same thing for 'R'....so you will have a total of 6 requests.\n",
    "stackPandasRequest = requests.get('https://api.stackexchange.com/tags/pandas/info?site=stackoverflow.com') \n",
    "statsPandasRequest = requests.get('https://api.stackexchange.com/tags/pandas/info?site=stats.stackexchange.com')\n",
    "dataSciencePandasRequest = requests.get('https://api.stackexchange.com/tags/pandas/info?site=datascience.stackexchange.com')\n",
    "# You need to do the same for R  \n",
    "stackRrequest = requests.get('https://api.stackexchange.com/tags/r/info?site=stackoverflow.com') \n",
    "statsRrequest = requests.get('https://api.stackexchange.com/tags/r/info?site=stats.stackexchange.com')\n",
    "datascienceRrequest = requests.get('https://api.stackexchange.com/tags/r/info?site=datascience.stackexchange.com')\n",
    "# Print out status code, headers, encoding\n",
    "API_requests = [stackPandasRequest,statsPandasRequest,dataSciencePandasRequest,\n",
    "                stackRrequest,statsRrequest,datascienceRrequest]\n",
    "for item in API_requests:\n",
    "    print(' Status Code:',item.status_code,'\\n','Headers:',item.headers,'\\n','Encoding: ',item.encoding,'\\n')"
   ]
  },
  {
   "cell_type": "markdown",
   "metadata": {},
   "source": [
    "#### Step 2: Saving the Output, and Converting it to a JSON Object\n",
    "The following lines of code write our output from our various requests to a new json file labeled, \"stackexchange.json\". The second portion of this code creates a JSON object using our different requests."
   ]
  },
  {
   "cell_type": "code",
   "execution_count": 367,
   "metadata": {},
   "outputs": [],
   "source": [
    "# Step - 2\n",
    "# Save the text output from each and print\n",
    "text_file = open(\"stackexchange.json\", \"w\")\n",
    "\n",
    "text_file.write(stackPandasRequest.text)\n",
    "text_file.write(statsPandasRequest.text)\n",
    "text_file.write(dataSciencePandasRequest.text)\n",
    "text_file.write(stackRrequest.text)\n",
    "text_file.write(statsRrequest.text)\n",
    "text_file.write(datascienceRrequest.text)\n",
    "\n",
    "text_file.close()\n",
    "\n",
    "#create a json object for each of the 'pandas' requests and for the 'R' requests\n",
    "stackRequestJson = json.loads(stackPandasRequest.text)\n",
    "statRequestJson = json.loads(statsPandasRequest.text)\n",
    "DataSciencePandas = json.loads(dataSciencePandasRequest.text)\n",
    "# R...\n",
    "stackRrequestJson = json.loads(stackRrequest.text)\n",
    "statsRrequestJson = json.loads(statsRrequest.text)\n",
    "datascienceRrequestJson = json.loads(datascienceRrequest.text)"
   ]
  },
  {
   "cell_type": "markdown",
   "metadata": {},
   "source": [
    "#### Step 2 Continued:\n",
    "This section of code prints our JSON objects for pandas. Using the 'json.dumps' method we can set our indent=4 and sort_keys=True to prepare our objects for pandas."
   ]
  },
  {
   "cell_type": "code",
   "execution_count": 368,
   "metadata": {},
   "outputs": [
    {
     "name": "stdout",
     "output_type": "stream",
     "text": [
      "{\n",
      "    \"has_more\": false,\n",
      "    \"items\": [\n",
      "        {\n",
      "            \"count\": 199384,\n",
      "            \"has_synonyms\": false,\n",
      "            \"is_moderator_only\": false,\n",
      "            \"is_required\": false,\n",
      "            \"name\": \"pandas\"\n",
      "        }\n",
      "    ],\n",
      "    \"quota_max\": 300,\n",
      "    \"quota_remaining\": 173\n",
      "}\n",
      "{\n",
      "    \"has_more\": false,\n",
      "    \"items\": [\n",
      "        {\n",
      "            \"count\": 129,\n",
      "            \"has_synonyms\": false,\n",
      "            \"is_moderator_only\": false,\n",
      "            \"is_required\": false,\n",
      "            \"name\": \"pandas\"\n",
      "        }\n",
      "    ],\n",
      "    \"quota_max\": 300,\n",
      "    \"quota_remaining\": 173\n",
      "}\n",
      "{\n",
      "    \"has_more\": false,\n",
      "    \"items\": [\n",
      "        {\n",
      "            \"count\": 1029,\n",
      "            \"has_synonyms\": false,\n",
      "            \"is_moderator_only\": false,\n",
      "            \"is_required\": false,\n",
      "            \"name\": \"pandas\"\n",
      "        }\n",
      "    ],\n",
      "    \"quota_max\": 300,\n",
      "    \"quota_remaining\": 173\n",
      "}\n"
     ]
    }
   ],
   "source": [
    "# Step 2 continued...\n",
    "\n",
    "# print the json objects for pandas, make sure to set an indentation of 4 and sort the keys - this can\n",
    "#    be done in the 'json.dumps' method\n",
    "# Debugging help\n",
    "# print(stack...Request.text)\n",
    "# print(stack...Request.json())\n",
    "# print(json.dumps(stack...RequestJson...)\n",
    "print(json.dumps(stackRequestJson,indent=4,sort_keys=True))\n",
    "print(json.dumps(statRequestJson,indent=4,sort_keys=True))\n",
    "print(json.dumps(DataSciencePandas,indent=4,sort_keys=True))"
   ]
  },
  {
   "cell_type": "code",
   "execution_count": 369,
   "metadata": {},
   "outputs": [
    {
     "name": "stdout",
     "output_type": "stream",
     "text": [
      "{\n",
      "    \"has_more\": false,\n",
      "    \"items\": [\n",
      "        {\n",
      "            \"count\": 400225,\n",
      "            \"has_synonyms\": true,\n",
      "            \"is_moderator_only\": false,\n",
      "            \"is_required\": false,\n",
      "            \"name\": \"r\"\n",
      "        }\n",
      "    ],\n",
      "    \"quota_max\": 300,\n",
      "    \"quota_remaining\": 173\n",
      "}\n",
      "{\n",
      "    \"has_more\": false,\n",
      "    \"items\": [\n",
      "        {\n",
      "            \"count\": 25237,\n",
      "            \"has_synonyms\": true,\n",
      "            \"is_moderator_only\": false,\n",
      "            \"is_required\": false,\n",
      "            \"name\": \"r\"\n",
      "        }\n",
      "    ],\n",
      "    \"quota_max\": 300,\n",
      "    \"quota_remaining\": 173\n",
      "}\n",
      "{\n",
      "    \"has_more\": false,\n",
      "    \"items\": [\n",
      "        {\n",
      "            \"count\": 1294,\n",
      "            \"has_synonyms\": false,\n",
      "            \"is_moderator_only\": false,\n",
      "            \"is_required\": false,\n",
      "            \"name\": \"r\"\n",
      "        }\n",
      "    ],\n",
      "    \"quota_max\": 300,\n",
      "    \"quota_remaining\": 171\n",
      "}\n"
     ]
    }
   ],
   "source": [
    "# Step 2 continued...\n",
    "\n",
    "# print the json objects for R, make sure to set an indentation of 4 and sort the keys - this can\n",
    "#    be done in the 'json.dumps' method\n",
    "# Debugging help\n",
    "# print(stack...Request.text)\n",
    "# print(stack...Request.json())\n",
    "# print(json.dumps(stack...RequestJson...)\n",
    "print(json.dumps(stackRrequestJson,indent=4,sort_keys=True))\n",
    "print(json.dumps(statsRrequestJson,indent=4,sort_keys=True))\n",
    "print(json.dumps(datascienceRrequestJson,indent=4,sort_keys=True))\n"
   ]
  },
  {
   "cell_type": "markdown",
   "metadata": {},
   "source": [
    "#### Step 3: Flatten our JSON Objects into Dataframes\n",
    "This section of our code takes our JSON objects that were created in step 2 and converts them into their own individual dataframes, and prints out the dataframe with it's name and shape."
   ]
  },
  {
   "cell_type": "code",
   "execution_count": 51,
   "metadata": {},
   "outputs": [
    {
     "name": "stdout",
     "output_type": "stream",
     "text": [
      "Stack Pandas DF: \n",
      "Shape:  (1, 7)\n",
      "   has_synonyms  is_moderator_only  is_required   count    name   Site     Tag\n",
      "0         False              False        False  199373  pandas  Stack  Pandas\n",
      " \n",
      "Stat Pandas DF: \n",
      "Shape:  (1, 7)\n",
      "   has_synonyms  is_moderator_only  is_required  count    name   Site     Tag\n",
      "0         False              False        False    129  pandas  Stats  Pandas\n",
      " \n",
      "Data Science Pandas DF: \n",
      "Shape:  (1, 7)\n",
      "   has_synonyms  is_moderator_only  is_required  count    name          Site  \\\n",
      "0         False              False        False   1029  pandas  Data Science   \n",
      "\n",
      "      Tag  \n",
      "0  Pandas  \n",
      " \n",
      "Stack R DF: \n",
      "Shape:  (1, 7)\n",
      "   has_synonyms  is_moderator_only  is_required   count name   Site Tag\n",
      "0          True              False        False  400206    r  Stack   R\n",
      " \n",
      "Stat R DF: \n",
      "Shape:  (1, 7)\n",
      "   has_synonyms  is_moderator_only  is_required  count name   Site Tag\n",
      "0          True              False        False  25235    r  Stats   R\n",
      " \n",
      "Data Science R DF: \n",
      "Shape:  (1, 7)\n",
      "   has_synonyms  is_moderator_only  is_required  count name          Site Tag\n",
      "0         False              False        False   1294    r  Data Science   R\n",
      " \n"
     ]
    }
   ],
   "source": [
    "# Step - 3\n",
    "# flatten json into a data frame for each and add the 'Site' and 'Tag' used\n",
    "stackRequest_df = pd.json_normalize(stackRequestJson['items'])\n",
    "stackRequest_df[\"Site\"] = \"Stack\"\n",
    "stackRequest_df[\"Tag\"] = \"Pandas\"\n",
    "# count the number of rows\n",
    "print('Stack Pandas DF: ')\n",
    "print('Shape: ',stackRequest_df.shape)\n",
    "\n",
    "# print first few rows\n",
    "print(stackRequest_df.head())\n",
    "print(' ')\n",
    "\n",
    "# do the other Pandas and all of the R ones as well\n",
    "\n",
    "#STATS PANDAS\n",
    "statRequest_df = pd.json_normalize(statRequestJson['items'])\n",
    "statRequest_df[\"Site\"] = \"Stats\"\n",
    "statRequest_df[\"Tag\"] = \"Pandas\"\n",
    "print('Stat Pandas DF: ')\n",
    "print('Shape: ',statRequest_df.shape)\n",
    "print(statRequest_df.head())\n",
    "print(' ')\n",
    "\n",
    "#DATA SCIENCE PANDAS\n",
    "DataSciencePandas_df = pd.json_normalize(DataSciencePandas['items'])\n",
    "DataSciencePandas_df[\"Site\"] = \"Data Science\"\n",
    "DataSciencePandas_df[\"Tag\"] = \"Pandas\"\n",
    "print('Data Science Pandas DF: ')\n",
    "print('Shape: ',DataSciencePandas_df.shape)\n",
    "print(DataSciencePandas_df.head())\n",
    "print(' ')\n",
    "\n",
    "#STACK R\n",
    "stackR_df = pd.json_normalize(stackRrequestJson['items'])\n",
    "stackR_df[\"Site\"] = \"Stack\"\n",
    "stackR_df[\"Tag\"] = \"R\"\n",
    "print('Stack R DF: ')\n",
    "print('Shape: ',stackR_df.shape)\n",
    "print(stackR_df.head())\n",
    "print(' ')\n",
    "\n",
    "#STATS R\n",
    "statR_df = pd.json_normalize(statsRrequestJson['items'])\n",
    "statR_df[\"Site\"] = \"Stats\"\n",
    "statR_df[\"Tag\"] = \"R\"\n",
    "print('Stat R DF: ')\n",
    "print('Shape: ',statR_df.shape)\n",
    "print(statR_df.head())\n",
    "print(' ')\n",
    "\n",
    "#DATA SCIENCE R\n",
    "DataScienceR_df = pd.json_normalize(datascienceRrequestJson['items'])\n",
    "DataScienceR_df[\"Site\"] = \"Data Science\"\n",
    "DataScienceR_df[\"Tag\"] = \"R\"\n",
    "print('Data Science R DF: ')\n",
    "print('Shape: ', DataScienceR_df.shape)\n",
    "print(DataScienceR_df.head())\n",
    "print(' ')"
   ]
  },
  {
   "cell_type": "markdown",
   "metadata": {},
   "source": [
    "#### Step 4: Create our Merged Dataframe\n",
    "Now that we have seperate dataframes for each site and tag, we are going to create a combined dataframe that contains all the data. First, we are going to create a list called \"dataframes\" that contains all the separate dataframes. Next, we are going to use the \"Concat\" function in pandas to merge all of our datasets together. Next, we are going to drop the columns 'has_synonyms','is_moderator_only','is_required', and 'name'because they aren't relevant to our research question. The last step in this section of code is to reset our index, and reorder our column names and label this new dataframe as \"cleaned_df\"."
   ]
  },
  {
   "cell_type": "code",
   "execution_count": 61,
   "metadata": {},
   "outputs": [
    {
     "data": {
      "text/html": [
       "<div>\n",
       "<style scoped>\n",
       "    .dataframe tbody tr th:only-of-type {\n",
       "        vertical-align: middle;\n",
       "    }\n",
       "\n",
       "    .dataframe tbody tr th {\n",
       "        vertical-align: top;\n",
       "    }\n",
       "\n",
       "    .dataframe thead th {\n",
       "        text-align: right;\n",
       "    }\n",
       "</style>\n",
       "<table border=\"1\" class=\"dataframe\">\n",
       "  <thead>\n",
       "    <tr style=\"text-align: right;\">\n",
       "      <th></th>\n",
       "      <th>Site</th>\n",
       "      <th>Tag</th>\n",
       "      <th>count</th>\n",
       "    </tr>\n",
       "  </thead>\n",
       "  <tbody>\n",
       "    <tr>\n",
       "      <th>0</th>\n",
       "      <td>Stack</td>\n",
       "      <td>Pandas</td>\n",
       "      <td>199373</td>\n",
       "    </tr>\n",
       "    <tr>\n",
       "      <th>1</th>\n",
       "      <td>Stats</td>\n",
       "      <td>Pandas</td>\n",
       "      <td>129</td>\n",
       "    </tr>\n",
       "    <tr>\n",
       "      <th>2</th>\n",
       "      <td>Data Science</td>\n",
       "      <td>Pandas</td>\n",
       "      <td>1029</td>\n",
       "    </tr>\n",
       "    <tr>\n",
       "      <th>3</th>\n",
       "      <td>Stack</td>\n",
       "      <td>R</td>\n",
       "      <td>400206</td>\n",
       "    </tr>\n",
       "    <tr>\n",
       "      <th>4</th>\n",
       "      <td>Stats</td>\n",
       "      <td>R</td>\n",
       "      <td>25235</td>\n",
       "    </tr>\n",
       "    <tr>\n",
       "      <th>5</th>\n",
       "      <td>Data Science</td>\n",
       "      <td>R</td>\n",
       "      <td>1294</td>\n",
       "    </tr>\n",
       "  </tbody>\n",
       "</table>\n",
       "</div>"
      ],
      "text/plain": [
       "           Site     Tag   count\n",
       "0         Stack  Pandas  199373\n",
       "1         Stats  Pandas     129\n",
       "2  Data Science  Pandas    1029\n",
       "3         Stack       R  400206\n",
       "4         Stats       R   25235\n",
       "5  Data Science       R    1294"
      ]
     },
     "execution_count": 61,
     "metadata": {},
     "output_type": "execute_result"
    }
   ],
   "source": [
    "# Additional steps, downloads, concat dataframes, graphs......anything you would need to tell the story\n",
    "#. e.g. concat the dataframes together\n",
    "#.   create a barchart showing the differences between Pandas and R total\n",
    "#.   plot the number of posts per site for Pandas and R\n",
    "dataframes = [stackRequest_df, statRequest_df, DataSciencePandas_df,stackR_df,statR_df,DataScienceR_df]\n",
    "final_df = pd.concat(dataframes)\n",
    "final_df = final_df.drop(['has_synonyms','is_moderator_only','is_required','name'],axis=1)\n",
    "index_fix = final_df.reset_index(inplace=True)\n",
    "index_fix = final_df.drop('index',axis=1)\n",
    "cleaned_df = index_fix[['Site','Tag','count']]\n",
    "cleaned_df"
   ]
  },
  {
   "cell_type": "markdown",
   "metadata": {},
   "source": [
    "#### Step 6: Analyze the Totals for Each Tag\n",
    "This line of code creates a new dataframe labeled \"totals_df,\" which takes the sum of all posts that are either \"Pandas\" or \"R\". This dataframe allows us to see which tool has more questions."
   ]
  },
  {
   "cell_type": "code",
   "execution_count": 341,
   "metadata": {},
   "outputs": [
    {
     "data": {
      "text/html": [
       "<div>\n",
       "<style scoped>\n",
       "    .dataframe tbody tr th:only-of-type {\n",
       "        vertical-align: middle;\n",
       "    }\n",
       "\n",
       "    .dataframe tbody tr th {\n",
       "        vertical-align: top;\n",
       "    }\n",
       "\n",
       "    .dataframe thead th {\n",
       "        text-align: right;\n",
       "    }\n",
       "</style>\n",
       "<table border=\"1\" class=\"dataframe\">\n",
       "  <thead>\n",
       "    <tr style=\"text-align: right;\">\n",
       "      <th></th>\n",
       "      <th>Tag</th>\n",
       "      <th>count</th>\n",
       "    </tr>\n",
       "  </thead>\n",
       "  <tbody>\n",
       "    <tr>\n",
       "      <th>0</th>\n",
       "      <td>Pandas</td>\n",
       "      <td>200531</td>\n",
       "    </tr>\n",
       "    <tr>\n",
       "      <th>1</th>\n",
       "      <td>R</td>\n",
       "      <td>426735</td>\n",
       "    </tr>\n",
       "  </tbody>\n",
       "</table>\n",
       "</div>"
      ],
      "text/plain": [
       "      Tag   count\n",
       "0  Pandas  200531\n",
       "1       R  426735"
      ]
     },
     "execution_count": 341,
     "metadata": {},
     "output_type": "execute_result"
    }
   ],
   "source": [
    "totals_df = cleaned_df.groupby('Tag').sum()\n",
    "totals_df = totals_df.reset_index()\n",
    "totals_df"
   ]
  },
  {
   "cell_type": "markdown",
   "metadata": {},
   "source": [
    "#### Step 7: Visualize our Tag Differences\n",
    "The following lines of code takes our \"totals_df\" and visualizes it into a simple bar chart. I have set the colors as red to depict pandas, and blue to depict R. As you can see in the following visual, there are more than double the amount of questions pertaining to R as there is Pandas."
   ]
  },
  {
   "cell_type": "code",
   "execution_count": 370,
   "metadata": {},
   "outputs": [
    {
     "data": {
      "image/png": "[encoded data removed]",
      "text/plain": [
       "<Figure size 432x288 with 1 Axes>"
      ]
     },
     "metadata": {
      "needs_background": "light"
     },
     "output_type": "display_data"
    }
   ],
   "source": [
    "#Creating a bar chart to show the differences between Pandas and R\n",
    "import matplotlib.pyplot as plt\n",
    "colors = ['indianred','skyblue']\n",
    "plt.bar(totals_df['Tag'],totals_df['count'],color=colors);\n",
    "plt.xlabel('Tag'); #Labels our x-axis\n",
    "plt.ylabel('Number of Posts'); #Labels our y-axis\n",
    "plt.title('Pandas v. R - Total Number of Posts');"
   ]
  },
  {
   "cell_type": "markdown",
   "metadata": {},
   "source": [
    "#### Step 8: Create Separate Dataframes to Analyze Each Site\n",
    "The following lines of code create new dataframes pertaining to each website that we analyzed and prints them out.\n",
    "The code creates three dataframes labeled:\n",
    "- **\"stack\"**: contains the count of questions on stackoverflow.com for both Pandas and R.\n",
    "- **\"stats\"**: contains the count of questions on stats.stackexchange.com for both Pandas and R.\n",
    "- **\"data_sci\"**: contains the count of questions on datascience.stackexchange.com for both Pandas and R."
   ]
  },
  {
   "cell_type": "code",
   "execution_count": 359,
   "metadata": {},
   "outputs": [
    {
     "name": "stdout",
     "output_type": "stream",
     "text": [
      "    Site     Tag   count\n",
      "0  Stack  Pandas  199373\n",
      "3  Stack       R  400206\n",
      "\n",
      "    Site     Tag  count\n",
      "1  Stats  Pandas    129\n",
      "4  Stats       R  25235\n",
      "\n",
      "           Site     Tag  count\n",
      "2  Data Science  Pandas   1029\n",
      "5  Data Science       R   1294\n"
     ]
    }
   ],
   "source": [
    "stack = cleaned_df.loc[cleaned_df['Site']=='Stack']\n",
    "stats = cleaned_df.loc[cleaned_df['Site']=='Stats']\n",
    "data_sci = cleaned_df.loc[cleaned_df['Site']=='Data Science']\n",
    "print(stack)\n",
    "print('')\n",
    "print(stats)\n",
    "print('')\n",
    "print(data_sci)"
   ]
  },
  {
   "cell_type": "markdown",
   "metadata": {},
   "source": [
    "#### Step 9: Visualizing the Breakdown of Questions Per Each Site\n",
    "The following code creates a figure that is 3 separate graphs, with a figure size of (10,15). Each graph corresponds to the three separate subcommunities we analyzed (Stack, Stats, and DataScience). For each subcommunity, the number of questions about Pandas is depicted in red, and the number of questions about R is depicted in blue."
   ]
  },
  {
   "cell_type": "code",
   "execution_count": 364,
   "metadata": {},
   "outputs": [
    {
     "data": {
      "image/png": "[encoded data removed]",
      "text/plain": [
       "<Figure size 720x1080 with 3 Axes>"
      ]
     },
     "metadata": {
      "needs_background": "light"
     },
     "output_type": "display_data"
    }
   ],
   "source": [
    "fig, axs = plt.subplots(3,figsize=(10,15));\n",
    "fig.suptitle('Number of Posts Per Site - Pandas v. R',size='18');\n",
    "axs[0].bar(stack['Tag'],stack['count'],color=colors);\n",
    "axs[0].set_title('Stack',size='14')\n",
    "axs[0].set_ylabel('Number of Posts');\n",
    "axs[1].bar(stats['Tag'],stats['count'],color=colors);\n",
    "axs[1].set_title('Stats',size='14')\n",
    "axs[1].set_ylabel('Number of Posts');\n",
    "axs[2].bar(data_sci['Tag'],data_sci['count'],color=colors);\n",
    "axs[2].set_title('Data Science',size='14')\n",
    "axs[2].set_ylabel('Number of Posts');"
   ]
  },
  {
   "cell_type": "markdown",
   "metadata": {},
   "source": [
    "#### Explanation of Results:\n",
    "The goal of this assignment was analyze how the number of questions regarding Pandas (a data science tool) and R (a statistical tool) differed between three subcommunities. Stackoverflow is a community for programmers to ask questions, stats.stackexchange is a Q&A community for people interested in statistics, and datascience.stackexchange is a Q&A community for people interested in data science. \n",
    "\n",
    "The first visual shows the comparison between Pandas and R tagged questions on all three communities. As you can see (Step 7), there were more than double the amount of posts tagged with R as opposed to posts tagged with Pandas. R is definitely the more popular tool within these subcommunities. The next question I wanted to explore more was which tool was more popular for the individual communities. I initially anticipated the stats community to be dominated by R questions, however for stackoverflow and data science communities I expect the opposite.\n",
    "\n",
    "After separating our data by community, I visualized the breakdown of each community in Step 9. As you can see in the visual in Step 9, there are more questions tagged with R for every subcommunity. The stack community had 199,373 questions tagged with Pandas and 400,206 questions tagged with R. The stats community had 129 questions tagged with Pandas and 25,235 tagged with R. The data science community had 1,029 questions tagged with Pandas and 1,294 questions tagged with R. \n",
    "\n",
    "To conclude, R is way more popular than Pandas when looking at the stack, stats, and data science subcommunities. The stack community is the most popular out of the three with 599,579 total questions, whereas the data science had the least amount of questions with 2,323 questions.\n",
    "\n",
    "#### Limitations:\n",
    "As with all data, there are limitations. When using an API there is always limitations because the data is always being updated. What we analyzed today could be slighlty different tomorrow. I think it is also important to note that when using an API to scrape data from a Q&A community, you are subject to human error. What I mean by this is that there could be endless amounts of questions relating to either tool but was improperly tagged by the user or not tagged at all. "
   ]
  }
 ],
 "metadata": {
  "kernelspec": {
   "display_name": "Python 3",
   "language": "python",
   "name": "python3"
  },
  "language_info": {
   "codemirror_mode": {
    "name": "ipython",
    "version": 3
   },
   "file_extension": ".py",
   "mimetype": "text/x-python",
   "name": "python",
   "nbconvert_exporter": "python",
   "pygments_lexer": "ipython3",
   "version": "3.8.5"
  }
 },
 "nbformat": 4,
 "nbformat_minor": 2
}
