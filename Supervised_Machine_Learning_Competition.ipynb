{
  "nbformat": 4,
  "nbformat_minor": 0,
  "metadata": {
    "colab": {
      "name": "Supervised Machine Learning Competition",
      "provenance": [],
      "collapsed_sections": []
    },
    "kernelspec": {
      "display_name": "Python 3",
      "language": "python",
      "name": "python3"
    },
    "language_info": {
      "codemirror_mode": {
        "name": "ipython",
        "version": 3
      },
      "file_extension": ".py",
      "mimetype": "text/x-python",
      "name": "python",
      "nbconvert_exporter": "python",
      "pygments_lexer": "ipython3",
      "version": "3.7.6"
    }
  },
  "cells": [
    {
      "cell_type": "code",
      "metadata": {
        "id": "7hG_8CWhb-Rh"
      },
      "source": [
        "import pandas as pd\n",
        "from sklearn.model_selection import train_test_split\n",
        "from sklearn.feature_extraction.text import TfidfVectorizer\n",
        "from sklearn.svm import LinearSVC "
      ],
      "execution_count": null,
      "outputs": []
    },
    {
      "cell_type": "code",
      "metadata": {
        "id": "ox6lf374b-Rp"
      },
      "source": [
        "train = pd.read_csv(\"https://raw.githubusercontent.com/aiwei/inst414-21s/main/kaggle/train.csv\")"
      ],
      "execution_count": null,
      "outputs": []
    },
    {
      "cell_type": "code",
      "metadata": {
        "colab": {
          "base_uri": "https://localhost:8080/",
          "height": 189
        },
        "id": "OTEEu_67b-Rq",
        "outputId": "dfa424df-9b41-4f8b-fb37-e22b17e7aebb"
      },
      "source": [
        "train.head(5)"
      ],
      "execution_count": null,
      "outputs": [
        {
          "output_type": "execute_result",
          "data": {
            "text/html": [
              "<div>\n",
              "<style scoped>\n",
              "    .dataframe tbody tr th:only-of-type {\n",
              "        vertical-align: middle;\n",
              "    }\n",
              "\n",
              "    .dataframe tbody tr th {\n",
              "        vertical-align: top;\n",
              "    }\n",
              "\n",
              "    .dataframe thead th {\n",
              "        text-align: right;\n",
              "    }\n",
              "</style>\n",
              "<table border=\"1\" class=\"dataframe\">\n",
              "  <thead>\n",
              "    <tr style=\"text-align: right;\">\n",
              "      <th></th>\n",
              "      <th>label</th>\n",
              "      <th>text</th>\n",
              "    </tr>\n",
              "  </thead>\n",
              "  <tbody>\n",
              "    <tr>\n",
              "      <th>0</th>\n",
              "      <td>1</td>\n",
              "      <td>Henry Thomas showed a restraint, even when the...</td>\n",
              "    </tr>\n",
              "    <tr>\n",
              "      <th>1</th>\n",
              "      <td>1</td>\n",
              "      <td>This movie starts out brisk, has some slow mom...</td>\n",
              "    </tr>\n",
              "    <tr>\n",
              "      <th>2</th>\n",
              "      <td>1</td>\n",
              "      <td>Castle of Blood is a good example of the quali...</td>\n",
              "    </tr>\n",
              "    <tr>\n",
              "      <th>3</th>\n",
              "      <td>1</td>\n",
              "      <td>I viewed the movie together with a homophobic ...</td>\n",
              "    </tr>\n",
              "    <tr>\n",
              "      <th>4</th>\n",
              "      <td>1</td>\n",
              "      <td>The \"Men in White\" movie is definitely one of ...</td>\n",
              "    </tr>\n",
              "  </tbody>\n",
              "</table>\n",
              "</div>"
            ],
            "text/plain": [
              "   label                                               text\n",
              "0      1  Henry Thomas showed a restraint, even when the...\n",
              "1      1  This movie starts out brisk, has some slow mom...\n",
              "2      1  Castle of Blood is a good example of the quali...\n",
              "3      1  I viewed the movie together with a homophobic ...\n",
              "4      1  The \"Men in White\" movie is definitely one of ..."
            ]
          },
          "metadata": {
            "tags": []
          },
          "execution_count": 7
        }
      ]
    },
    {
      "cell_type": "code",
      "metadata": {
        "id": "i6bQ0nV-b-Rr"
      },
      "source": [
        "test = pd.read_csv(\"https://raw.githubusercontent.com/aiwei/inst414-21s/main/kaggle/test.csv\")"
      ],
      "execution_count": null,
      "outputs": []
    },
    {
      "cell_type": "code",
      "metadata": {
        "colab": {
          "base_uri": "https://localhost:8080/",
          "height": 189
        },
        "id": "aWbiFiu5b-Rs",
        "outputId": "7912db25-5c12-423e-acdb-51283d9f7269"
      },
      "source": [
        "test.head(5)"
      ],
      "execution_count": null,
      "outputs": [
        {
          "output_type": "execute_result",
          "data": {
            "text/html": [
              "<div>\n",
              "<style scoped>\n",
              "    .dataframe tbody tr th:only-of-type {\n",
              "        vertical-align: middle;\n",
              "    }\n",
              "\n",
              "    .dataframe tbody tr th {\n",
              "        vertical-align: top;\n",
              "    }\n",
              "\n",
              "    .dataframe thead th {\n",
              "        text-align: right;\n",
              "    }\n",
              "</style>\n",
              "<table border=\"1\" class=\"dataframe\">\n",
              "  <thead>\n",
              "    <tr style=\"text-align: right;\">\n",
              "      <th></th>\n",
              "      <th>Id</th>\n",
              "      <th>text</th>\n",
              "    </tr>\n",
              "  </thead>\n",
              "  <tbody>\n",
              "    <tr>\n",
              "      <th>0</th>\n",
              "      <td>0</td>\n",
              "      <td>I cannot believe I actually sat through the wh...</td>\n",
              "    </tr>\n",
              "    <tr>\n",
              "      <th>1</th>\n",
              "      <td>1</td>\n",
              "      <td>I saw this one remastered on DVD. It had a big...</td>\n",
              "    </tr>\n",
              "    <tr>\n",
              "      <th>2</th>\n",
              "      <td>2</td>\n",
              "      <td>Irrespective of the accuracy of facts, Bandit ...</td>\n",
              "    </tr>\n",
              "    <tr>\n",
              "      <th>3</th>\n",
              "      <td>3</td>\n",
              "      <td>Significant Spoilers! This is a sick, disturbi...</td>\n",
              "    </tr>\n",
              "    <tr>\n",
              "      <th>4</th>\n",
              "      <td>4</td>\n",
              "      <td>If there are people that don't like this movie...</td>\n",
              "    </tr>\n",
              "  </tbody>\n",
              "</table>\n",
              "</div>"
            ],
            "text/plain": [
              "   Id                                               text\n",
              "0   0  I cannot believe I actually sat through the wh...\n",
              "1   1  I saw this one remastered on DVD. It had a big...\n",
              "2   2  Irrespective of the accuracy of facts, Bandit ...\n",
              "3   3  Significant Spoilers! This is a sick, disturbi...\n",
              "4   4  If there are people that don't like this movie..."
            ]
          },
          "metadata": {
            "tags": []
          },
          "execution_count": 9
        }
      ]
    },
    {
      "cell_type": "markdown",
      "metadata": {
        "id": "kZ8M-TBUDzk5"
      },
      "source": [
        "**TfidfVectorizer:** allows us to implement weighting to our terms in our movie reviews. \n",
        "\n",
        "**Paramters:**\n",
        "- **sublinear_tf = True**: applies sublinear tf scaling and changes my tf to 1 + log(tf).\n",
        "- **analyzer = 'word'**: makes the feature extracted a word n_gram.\n",
        "- **lowercase = True**: converts all characters to lowercase before tokenizing.\n",
        "- **max_df = .7**: means ignore terms that occur in more than 70% of the documents.\n",
        "- **ngram_range = (1,3)**: features include unigrams, bigrams, and trigrams."
      ]
    },
    {
      "cell_type": "code",
      "metadata": {
        "id": "GpwHgaG8b-Rs"
      },
      "source": [
        "tfid_vect = TfidfVectorizer(sublinear_tf=True,analyzer='word',lowercase=True,max_df=.7,ngram_range=(1,3))"
      ],
      "execution_count": null,
      "outputs": []
    },
    {
      "cell_type": "code",
      "metadata": {
        "id": "2WbaWcrhb-Rt"
      },
      "source": [
        "X_train = tfid_vect.fit_transform(train.text)"
      ],
      "execution_count": null,
      "outputs": []
    },
    {
      "cell_type": "code",
      "metadata": {
        "colab": {
          "background_save": true
        },
        "id": "ZnNuTPoob-Ru"
      },
      "source": [
        "X_test = tfid_vect.transform(test.text)"
      ],
      "execution_count": null,
      "outputs": []
    },
    {
      "cell_type": "code",
      "metadata": {
        "colab": {
          "background_save": true
        },
        "id": "NBMQf92hb-Ru"
      },
      "source": [
        "y_train = train.label"
      ],
      "execution_count": null,
      "outputs": []
    },
    {
      "cell_type": "markdown",
      "metadata": {
        "id": "CSZjqGUpb-Rv"
      },
      "source": [
        "**The following line of code implements our additional train-test-split to allow us to perform better parameter tuning and feature selection.**\n"
      ]
    },
    {
      "cell_type": "code",
      "metadata": {
        "colab": {
          "background_save": true
        },
        "id": "kphnferktEIG"
      },
      "source": [
        "X_train_2, X_test_2, y_train_2, y_test_2 = train_test_split(X_train, y_train, random_state = 5)"
      ],
      "execution_count": null,
      "outputs": []
    },
    {
      "cell_type": "markdown",
      "metadata": {
        "id": "wT7bSIleFk6k"
      },
      "source": [
        "**Linear SVC Parameters:**\n",
        "- **C = 1e20:** sets our regularization parameters to 1e20 to create a smaller-margin hyperplane.\n",
        "- **max_iter = 10000:** sets our max number of iterations ran to 10,000."
      ]
    },
    {
      "cell_type": "markdown",
      "metadata": {
        "id": "wL0A0snaC_dA"
      },
      "source": [
        "**Testing our model with our new training and testing sets.**\n",
        "\n",
        "**Note:** The accuracy score projected here differs slightly from the accuracy score on Kaggle. Due to the second train-test-split, our testing and training sets are smaller and are not comparable to the original testing set. I used this score to see whether different parameters increased or decreased the projected score."
      ]
    },
    {
      "cell_type": "code",
      "metadata": {
        "colab": {
          "background_save": true
        },
        "id": "kzdFvGDLb-Rw",
        "outputId": "fe76c5b6-a2f6-4c70-8d50-f2742251467a"
      },
      "source": [
        "svc_test = LinearSVC(C=1e20,max_iter=10000).fit(X_train_2, y_train_2)\n",
        "svc_test_score = svc_test.score(X_test_2,y_test_2)\n",
        "print('Projected Accuracy:',svc_test_score)"
      ],
      "execution_count": null,
      "outputs": [
        {
          "output_type": "stream",
          "text": [
            "Projected Accuracy: 0.8916\n"
          ],
          "name": "stdout"
        }
      ]
    },
    {
      "cell_type": "markdown",
      "metadata": {
        "id": "YXH48naMDjGi"
      },
      "source": [
        "**Final Linear SVC model trained using our training data. Creates predictions using our X_test.**"
      ]
    },
    {
      "cell_type": "code",
      "metadata": {
        "colab": {
          "background_save": true
        },
        "id": "HMislM-pDUKn"
      },
      "source": [
        "final_svc = LinearSVC(C=1e20,max_iter=10000).fit(X_train,y_train)\n",
        "svc_prediction = final_svc.predict(X_test)"
      ],
      "execution_count": null,
      "outputs": []
    },
    {
      "cell_type": "markdown",
      "metadata": {
        "id": "o0SKExVjFPwc"
      },
      "source": [
        "**Writes our predictions into a Pandas Dataframe and presents the first 10 rows.**"
      ]
    },
    {
      "cell_type": "code",
      "metadata": {
        "id": "XCgoJKZRdkom"
      },
      "source": [
        "prediction_df = pd.DataFrame({\"Id\": test.Id, \"Category\": svc_prediction})"
      ],
      "execution_count": null,
      "outputs": []
    },
    {
      "cell_type": "code",
      "metadata": {
        "colab": {
          "base_uri": "https://localhost:8080/",
          "height": 331
        },
        "id": "YdQqT7_RdoVj",
        "outputId": "a8b0b822-4457-47a2-d4c1-dbb041088620"
      },
      "source": [
        "prediction_df.head(10)"
      ],
      "execution_count": null,
      "outputs": [
        {
          "output_type": "execute_result",
          "data": {
            "text/html": [
              "<div>\n",
              "<style scoped>\n",
              "    .dataframe tbody tr th:only-of-type {\n",
              "        vertical-align: middle;\n",
              "    }\n",
              "\n",
              "    .dataframe tbody tr th {\n",
              "        vertical-align: top;\n",
              "    }\n",
              "\n",
              "    .dataframe thead th {\n",
              "        text-align: right;\n",
              "    }\n",
              "</style>\n",
              "<table border=\"1\" class=\"dataframe\">\n",
              "  <thead>\n",
              "    <tr style=\"text-align: right;\">\n",
              "      <th></th>\n",
              "      <th>Id</th>\n",
              "      <th>Category</th>\n",
              "    </tr>\n",
              "  </thead>\n",
              "  <tbody>\n",
              "    <tr>\n",
              "      <th>0</th>\n",
              "      <td>0</td>\n",
              "      <td>0</td>\n",
              "    </tr>\n",
              "    <tr>\n",
              "      <th>1</th>\n",
              "      <td>1</td>\n",
              "      <td>0</td>\n",
              "    </tr>\n",
              "    <tr>\n",
              "      <th>2</th>\n",
              "      <td>2</td>\n",
              "      <td>1</td>\n",
              "    </tr>\n",
              "    <tr>\n",
              "      <th>3</th>\n",
              "      <td>3</td>\n",
              "      <td>0</td>\n",
              "    </tr>\n",
              "    <tr>\n",
              "      <th>4</th>\n",
              "      <td>4</td>\n",
              "      <td>1</td>\n",
              "    </tr>\n",
              "    <tr>\n",
              "      <th>5</th>\n",
              "      <td>5</td>\n",
              "      <td>0</td>\n",
              "    </tr>\n",
              "    <tr>\n",
              "      <th>6</th>\n",
              "      <td>6</td>\n",
              "      <td>1</td>\n",
              "    </tr>\n",
              "    <tr>\n",
              "      <th>7</th>\n",
              "      <td>7</td>\n",
              "      <td>0</td>\n",
              "    </tr>\n",
              "    <tr>\n",
              "      <th>8</th>\n",
              "      <td>8</td>\n",
              "      <td>1</td>\n",
              "    </tr>\n",
              "    <tr>\n",
              "      <th>9</th>\n",
              "      <td>9</td>\n",
              "      <td>1</td>\n",
              "    </tr>\n",
              "  </tbody>\n",
              "</table>\n",
              "</div>"
            ],
            "text/plain": [
              "   Id  Category\n",
              "0   0         0\n",
              "1   1         0\n",
              "2   2         1\n",
              "3   3         0\n",
              "4   4         1\n",
              "5   5         0\n",
              "6   6         1\n",
              "7   7         0\n",
              "8   8         1\n",
              "9   9         1"
            ]
          },
          "metadata": {
            "tags": []
          },
          "execution_count": 15
        }
      ]
    },
    {
      "cell_type": "markdown",
      "metadata": {
        "id": "8BX4IypDFWQ9"
      },
      "source": [
        "**Writes our Pandas Dataframe to a csv file labeled, \"Dillon_Morley_Final.csv\"**"
      ]
    },
    {
      "cell_type": "code",
      "metadata": {
        "id": "_wDj8N7ab-Rw"
      },
      "source": [
        "prediction_df.to_csv(\"Dillon_Morley_Final.csv\", index=False)"
      ],
      "execution_count": null,
      "outputs": []
    }
  ]
}